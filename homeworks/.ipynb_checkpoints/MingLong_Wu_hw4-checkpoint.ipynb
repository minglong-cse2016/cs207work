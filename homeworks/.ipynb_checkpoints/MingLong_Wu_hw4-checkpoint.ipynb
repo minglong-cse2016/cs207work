{
 "cells": [
  {
   "cell_type": "markdown",
   "metadata": {},
   "source": [
    "## Q1.\n",
    "\n",
    "Use github to integrate our math library from the lab with Travis CI and Coveralls.\n",
    "In the cell below, put a link to your github `cs207test` repo so we can track your badges."
   ]
  },
  {
   "cell_type": "markdown",
   "metadata": {},
   "source": [
    "*your answer here*\n",
    "\n",
    "https://github.com/minglong-cse2016/cs207test\n",
    "\n",
    "[![Build Status](https://travis-ci.org/minglong-cse2016/cs207test.svg?branch=master)](https://travis-ci.org/minglong-cse2016/cs207test)\n",
    "\n",
    "[![Coverage Status](https://coveralls.io/repos/github/minglong-cse2016/cs207test/badge.svg?branch=master)](https://coveralls.io/github/minglong-cse2016/cs207test?branch=master)\n"
   ]
  },
  {
   "cell_type": "markdown",
   "metadata": {},
   "source": [
    "## Q2.\n",
    "\n",
    "Take the implementation of binary search from a previous lecture/lab. Write unit tests for the algorithm (remember we have doctests in there), stripping the doctests down to those that illustrate the interface for a user. How do these doctests deal with the concerns we had?\n",
    "\n",
    "Make sure you have good test coverage. You will be integrationg with Travis and Coveralls."
   ]
  },
  {
   "cell_type": "code",
   "execution_count": 15,
   "metadata": {
    "collapsed": false
   },
   "outputs": [
    {
     "name": "stdout",
     "output_type": "stream",
     "text": [
      "Writing binsearch.py\n"
     ]
    }
   ],
   "source": [
    "# Original homework code, unchanged.\n",
    "\n",
    "%%file binsearch.py\n",
    "def binary_search(da_array: list, needle, left:int=0, right:int=-1) -> int:\n",
    "    \"\"\"\n",
    "    An algorithm that operates in O(lg(n)) to search for an element\n",
    "    in an array sorted in ascending order.\n",
    "    \n",
    "    Parameters\n",
    "    ----------\n",
    "    da_array : list\n",
    "        a list of \"comparable\"items sorted in non-descending order\n",
    "    needle: an item to find in the array; it may or may not\n",
    "        be in the array\n",
    "    left: int, optional\n",
    "        the left index in the array to search from. Default 0\n",
    "    right: int, optional\n",
    "        the right index in the array to search to. Default is -1\n",
    "        in which case we will use the end of the array `len(da_array) - 1`\n",
    "        \n",
    "    Returns\n",
    "    -------\n",
    "    index: int\n",
    "        an integer representing the index of `needle` if found, and -1\n",
    "        otherwise\n",
    "        \n",
    "    Notes\n",
    "    -----\n",
    "    PRE: `da_array` is sorted in non-decreasing order (thus items in\n",
    "        `da_array` must be comparable: implement < and ==)\n",
    "    POST: \n",
    "        - `da_array` is not changed by this function (immutable)\n",
    "        - returns `index`=-1 if `needle` is not in `da_array`\n",
    "        - returns an int `index ` in [0:len(da_array)] if\n",
    "          `index` is in `da_array`\n",
    "    INVARIANTS:\n",
    "        - If `needle` in `da_array`, needle in `da_array[rangemin:rangemax]`\n",
    "          is a loop invariant in the while loop below.\n",
    "          \n",
    "    Examples\n",
    "    --------\n",
    "    >>> input = list(range(10))\n",
    "    >>> binary_search(input, 5)\n",
    "    5\n",
    "    >>> binary_search(input, 4.5)\n",
    "    -1\n",
    "    >>> binary_search(input, 10)\n",
    "    -1\n",
    "    >>> binary_search([5], 5)\n",
    "    0\n",
    "    >>> binary_search([5], 4)\n",
    "    -1\n",
    "    >>> import numpy as np\n",
    "    >>> binary_search([1,2,np.inf], 2)\n",
    "    1\n",
    "    >>> binary_search([1,2,np.inf], np.inf)\n",
    "    2\n",
    "    >>> binary_search(input, 5, 1,3)\n",
    "    -1\n",
    "    >>> binary_search(input, 2, 1,3)\n",
    "    2\n",
    "    >>> binary_search(input, 2, 3, 1)\n",
    "    -1\n",
    "    >>> binary_search(input, 2, 2, 2)\n",
    "    2\n",
    "    >>> binary_search(input, 5, 2, 2)\n",
    "    -1\n",
    "    \"\"\"\n",
    "    if left==0:\n",
    "        rangemin = 0\n",
    "    else:\n",
    "        rangemin = left\n",
    "    if right==-1:\n",
    "        rangemax=len(da_array) - 1\n",
    "    else:\n",
    "        rangemax=right\n",
    "    while True:\n",
    "        \"needle in da_array => needle in da_array[rangemin:rangemax]\"   \n",
    "        if rangemin > rangemax:\n",
    "            index = -1\n",
    "            return index\n",
    "        #If rangemin and rangemax are both very high we do not want overflow,\n",
    "        #so get the midpoint like this:\n",
    "        midpoint = rangemin + (rangemax - rangemin)//2\n",
    "        if da_array[midpoint] > needle:#lower part\n",
    "            rangemax = midpoint - 1\n",
    "        elif da_array[midpoint] < needle:\n",
    "            rangemin = midpoint + 1\n",
    "        else:\n",
    "            index = midpoint\n",
    "            return index\n"
   ]
  },
  {
   "cell_type": "markdown",
   "metadata": {},
   "source": [
    "### stripping the doctests down to those that illustrate the interface for a user: ###"
   ]
  },
  {
   "cell_type": "code",
   "execution_count": 60,
   "metadata": {
    "collapsed": false
   },
   "outputs": [
    {
     "name": "stdout",
     "output_type": "stream",
     "text": [
      "Overwriting /Users/minglong/Desktop/CSE_2016/CS207/cs207binsearch/binsearch.py\n"
     ]
    }
   ],
   "source": [
    "%%file /Users/minglong/Desktop/CSE_2016/CS207/cs207binsearch/binsearch.py\n",
    "def binary_search(da_array: list, needle, left:int=0, right:int=-1) -> int:\n",
    "    \"\"\"\n",
    "    An algorithm that operates in O(lg(n)) to search for an element\n",
    "    in an array sorted in ascending order.\n",
    "    \n",
    "    Parameters\n",
    "    ----------\n",
    "    da_array : list\n",
    "        a list of \"comparable\"items sorted in non-descending order\n",
    "    needle: an item to find in the array; it may or may not\n",
    "        be in the array\n",
    "    left: int, optional\n",
    "        the left index in the array to search from. Default 0\n",
    "    right: int, optional\n",
    "        the right index in the array to search to. Default is -1\n",
    "        in which case we will use the end of the array `len(da_array) - 1`\n",
    "        \n",
    "    Returns\n",
    "    -------\n",
    "    index: int\n",
    "        an integer representing the index of `needle` if found, and -1\n",
    "        otherwise\n",
    "        \n",
    "    Notes\n",
    "    -----\n",
    "    PRE: `da_array` is sorted in non-decreasing order (thus items in\n",
    "        `da_array` must be comparable: implement < and ==)\n",
    "    POST: \n",
    "        - `da_array` is not changed by this function (immutable)\n",
    "        - returns `index`=-1 if `needle` is not in `da_array`\n",
    "        - returns an int `index ` in [0:len(da_array)] if\n",
    "          `index` is in `da_array`\n",
    "    INVARIANTS:\n",
    "        - If `needle` in `da_array`, needle in `da_array[rangemin:rangemax]`\n",
    "          is a loop invariant in the while loop below.\n",
    "    \n",
    "    Examples\n",
    "    --------\n",
    "    >>> input = list(range(10))\n",
    "    >>> binary_search(input, 5)\n",
    "    5\n",
    "    >>> binary_search(input, 4.5)\n",
    "    -1\n",
    "    >>> binary_search(input, 10)\n",
    "    -1\n",
    "    \"\"\"\n",
    "    if left==0:\n",
    "        rangemin = 0\n",
    "    else:\n",
    "        rangemin = left\n",
    "    if right==-1:\n",
    "        rangemax=len(da_array) - 1\n",
    "    else:\n",
    "        rangemax=right\n",
    "    while True:\n",
    "        \"needle in da_array => needle in da_array[rangemin:rangemax]\"   \n",
    "        if rangemin > rangemax:\n",
    "            index = -1\n",
    "            return index\n",
    "        #If rangemin and rangemax are both very high we do not want overflow,\n",
    "        #so get the midpoint like this:\n",
    "        midpoint = rangemin + (rangemax - rangemin)//2\n",
    "        if da_array[midpoint] > needle:#lower part\n",
    "            rangemax = midpoint - 1\n",
    "        elif da_array[midpoint] < needle:\n",
    "            rangemin = midpoint + 1\n",
    "        else:\n",
    "            index = midpoint\n",
    "            return index\n"
   ]
  },
  {
   "cell_type": "markdown",
   "metadata": {},
   "source": [
    "In addition, we should be **systematic** about testing our code. You should at-least jave some tests like this:\n",
    "\n",
    "1. We should test with wierd data, ie a wierd array: does it have NANs, is it numeric? Does it have 0 elelemts? 1 element? 2?...ie test the boundaries\n",
    "\n",
    "2. Then think of how the needle relates to the above. Try needles less than or greter than the range in the sorted array, besides needles inbetween (in both cases the needle not being in the array). Try needles at the extremes of the array.\n",
    "\n",
    "3. test the integration of 1 and 2 to make sure something has not gone wrong there.\n",
    "\n",
    "Note: you can always compare your answers with linear search implemented in python."
   ]
  },
  {
   "cell_type": "markdown",
   "metadata": {},
   "source": [
    "For reference, here are some of our concerns from that lab:\n",
    "\n",
    "#### What's happened to our issue from before?\n",
    "\n",
    "- What if the value is not there in the array? What if it is there multiple times? what are we returning (why the -1). Are we consistent in our returning?\n",
    "\n",
    "We return -1 if the element is not in the array. If it is there multiple times, we will return one of them: it is not defined which. We are consistent by always returning an int, choosing one which cannot be an index.\n",
    "\n",
    "- What if rangemax is so high as to create overflow: \n",
    "\n",
    "We fixed it by using the difference and have documented it in the algorithm\n",
    "\n",
    "\n",
    "- what types are we supporting? . \n",
    "\n",
    "It seems that as long as we have a notion of equals `==`, and a notion of `<` to support sorting we are set. We should document this.\n",
    "\n",
    "- what happens if we have a NaN in our array? Infty?\n",
    "\n",
    "If our preconditions are violated by the user, we can do anything. Doing it nicely might be costly. so we wont.\n",
    "\n",
    "\n",
    "- what if da_array was not an array?\n",
    "\n",
    "The user violated the pre-conditions. Anything could happen. We could check for a list\n",
    "but yhen that would hurt a special class which implemented the python sequence protocol\n",
    "\n",
    "- What happens if array is not sorted: \n",
    "\n",
    "The user violated the pre-conditions. We could return an error, violate post conditions. If we sort it we'd violate the o(lg(n)) notion. (fixing it seems dubious). Can we check if its sorted? This is naively O(n) and breaks our performance specifications. We can create a guard to terminate the array at more than n iterations for the infinite case or let the user have enough rope to hang themselves\n",
    "\n"
   ]
  },
  {
   "cell_type": "markdown",
   "metadata": {},
   "source": [
    "## testing code here: ##"
   ]
  },
  {
   "cell_type": "code",
   "execution_count": 100,
   "metadata": {
    "collapsed": false
   },
   "outputs": [
    {
     "name": "stdout",
     "output_type": "stream",
     "text": [
      "Overwriting /Users/minglong/Desktop/CSE_2016/CS207/cs207binsearch/test_binsearch.py\n"
     ]
    }
   ],
   "source": [
    "%%file /Users/minglong/Desktop/CSE_2016/CS207/cs207binsearch/test_binsearch.py\n",
    "\n",
    "from pytest import raises\n",
    "from binsearch import binary_search\n",
    "\n",
    "def test_binary_search():\n",
    "    assert binary_search([0, 5, 6], 6) == 2\n",
    "\n",
    "def test_char():\n",
    "    with raises(TypeError):\n",
    "        binary_search(['a', 3], 3)\n",
    "\n",
    "def test_no_input():\n",
    "    with raises(TypeError):\n",
    "        binary_search()\n",
    "\n",
    "def test_empty_input():\n",
    "    assert binary_search([], 1) == -1\n",
    "\n",
    "def test_one_input():\n",
    "    assert binary_search([5], 10) == -1\n",
    "\n",
    "def test_two_input():\n",
    "    assert binary_search([5, 10], 3) == -1\n",
    "    \n",
    "def test_left_boundary():\n",
    "    assert binary_search([1, 2, 3, 4], -1) == -1\n",
    "\n",
    "def test_middle():\n",
    "    assert binary_search([1, 2, 8, 10], 5) == -1\n",
    "\n",
    "def test_right_boundary():\n",
    "    assert binary_search([1, 2, 3, 4], 10) == -1\n",
    "\n",
    "def test_with_left_right1():\n",
    "    assert binary_search(range(10), 5, 2, 4) == -1\n",
    "\n",
    "def test_with_left_right2():\n",
    "    assert binary_search(range(10), 5, 0, -1) == 5\n",
    "\n",
    "def test_with_left_right3():\n",
    "    assert binary_search(range(10), 5, 0, 12) == 5\n",
    "\n",
    "def test_with_left_right4():\n",
    "    assert binary_search(range(10), 5, 12, 0) == -1\n",
    "\n",
    "def test_large_input1():\n",
    "    assert binary_search(range(1000000), -1) == -1\n",
    "\n",
    "def test_large_input2():\n",
    "    assert binary_search(range(1000000), 1000001) == -1\n",
    "\n",
    "def test_large_input3():\n",
    "    assert binary_search(range(1000000), 40000) == 40000\n"
   ]
  },
  {
   "cell_type": "code",
   "execution_count": 5,
   "metadata": {
    "collapsed": false
   },
   "outputs": [
    {
     "name": "stdout",
     "output_type": "stream",
     "text": [
      "Writing /Users/minglong/Desktop/CSE_2016/CS207/cs207binsearch/setup.cfg\n"
     ]
    }
   ],
   "source": [
    "%%file /Users/minglong/Desktop/CSE_2016/CS207/cs207binsearch/setup.cfg\n",
    "[pytest]\n",
    "addopts = --doctest-modules --cov-report term-missing --cov binsearch"
   ]
  },
  {
   "cell_type": "code",
   "execution_count": 6,
   "metadata": {
    "collapsed": false
   },
   "outputs": [
    {
     "name": "stdout",
     "output_type": "stream",
     "text": [
      "Writing /Users/minglong/Desktop/CSE_2016/CS207/cs207binsearch/.travis.yml\n"
     ]
    }
   ],
   "source": [
    "%%file /Users/minglong/Desktop/CSE_2016/CS207/cs207binsearch/.travis.yml\n",
    "language: python\n",
    "python:\n",
    "    - \"3.5\"\n",
    "before_install:\n",
    "    - pip install pytest pytest-cov\n",
    "script:\n",
    "    - py.test"
   ]
  },
  {
   "cell_type": "code",
   "execution_count": 57,
   "metadata": {
    "collapsed": false
   },
   "outputs": [
    {
     "name": "stdout",
     "output_type": "stream",
     "text": [
      "~/Desktop/CSE_2016/CS207/cs207binsearch ~/Desktop/CSE_2016/CS207/cs207work/homeworks\n",
      "[master 46b58e4] travis integration\n",
      " 1 file changed, 5 insertions(+), 1 deletion(-)\n",
      "~/Desktop/CSE_2016/CS207/cs207work/homeworks\n"
     ]
    },
    {
     "name": "stderr",
     "output_type": "stream",
     "text": [
      "warning: push.default is unset; its implicit value has changed in\n",
      "Git 2.0 from 'matching' to 'simple'. To squelch this message\n",
      "and maintain the traditional behavior, use:\n",
      "\n",
      "  git config --global push.default matching\n",
      "\n",
      "To squelch this message and adopt the new behavior now, use:\n",
      "\n",
      "  git config --global push.default simple\n",
      "\n",
      "When push.default is set to 'matching', git will push local branches\n",
      "to the remote branches that already exist with the same name.\n",
      "\n",
      "Since Git 2.0, Git defaults to the more conservative 'simple'\n",
      "behavior, which only pushes the current branch to the corresponding\n",
      "remote branch that 'git pull' uses to update the current branch.\n",
      "\n",
      "See 'git help config' and search for 'push.default' for further information.\n",
      "(the 'simple' mode was introduced in Git 1.7.11. Use the similar mode\n",
      "'current' instead of 'simple' if you sometimes use older versions of Git)\n",
      "\n",
      "To https://github.com/minglong-cse2016/cs207binsearch.git\n",
      "   8904369..46b58e4  master -> master\n"
     ]
    }
   ],
   "source": [
    "%%bash\n",
    "pushd /Users/minglong/Desktop/CSE_2016/CS207/cs207binsearch\n",
    "git add .\n",
    "git commit -m \"travis integration\" -a\n",
    "git push\n",
    "popd"
   ]
  },
  {
   "cell_type": "code",
   "execution_count": 10,
   "metadata": {
    "collapsed": false
   },
   "outputs": [
    {
     "name": "stdout",
     "output_type": "stream",
     "text": [
      "Overwriting /Users/minglong/Desktop/CSE_2016/CS207/cs207binsearch/.travis.yml\n"
     ]
    }
   ],
   "source": [
    "%%file /Users/minglong/Desktop/CSE_2016/CS207/cs207binsearch/.travis.yml\n",
    "language: python\n",
    "python:\n",
    "    - \"3.5\"\n",
    "before_install:\n",
    "    - pip install pytest pytest-cov\n",
    "    - pip install coveralls\n",
    "script:\n",
    "    - py.test\n",
    "after_success:\n",
    "    - coveralls"
   ]
  },
  {
   "cell_type": "code",
   "execution_count": 80,
   "metadata": {
    "collapsed": false
   },
   "outputs": [
    {
     "name": "stdout",
     "output_type": "stream",
     "text": [
      "Overwriting /Users/minglong/Desktop/CSE_2016/CS207/cs207binsearch/README.md\n"
     ]
    }
   ],
   "source": [
    "%%file /Users/minglong/Desktop/CSE_2016/CS207/cs207binsearch/README.md\n",
    "\n",
    "# cs207binsearch\n",
    "\n",
    "[![Build Status](https://travis-ci.org/minglong-cse2016/cs207binsearch.svg?branch=master)](https://travis-ci.org/minglong-cse2016/cs207binsearch)\n",
    "\n",
    "[![Coverage Status](https://coveralls.io/repos/github/minglong-cse2016/cs207binsearch/badge.svg?branch=master)](https://coveralls.io/github/minglong-cse2016/cs207binsearch?branch=master)"
   ]
  },
  {
   "cell_type": "code",
   "execution_count": 101,
   "metadata": {
    "collapsed": false
   },
   "outputs": [
    {
     "name": "stdout",
     "output_type": "stream",
     "text": [
      "~/Desktop/CSE_2016/CS207/cs207binsearch ~/Desktop/CSE_2016/CS207/cs207work/homeworks\n",
      "[master 1930dbf] added badges\n",
      " 1 file changed, 14 insertions(+), 14 deletions(-)\n",
      "~/Desktop/CSE_2016/CS207/cs207work/homeworks\n"
     ]
    },
    {
     "name": "stderr",
     "output_type": "stream",
     "text": [
      "warning: push.default is unset; its implicit value has changed in\n",
      "Git 2.0 from 'matching' to 'simple'. To squelch this message\n",
      "and maintain the traditional behavior, use:\n",
      "\n",
      "  git config --global push.default matching\n",
      "\n",
      "To squelch this message and adopt the new behavior now, use:\n",
      "\n",
      "  git config --global push.default simple\n",
      "\n",
      "When push.default is set to 'matching', git will push local branches\n",
      "to the remote branches that already exist with the same name.\n",
      "\n",
      "Since Git 2.0, Git defaults to the more conservative 'simple'\n",
      "behavior, which only pushes the current branch to the corresponding\n",
      "remote branch that 'git pull' uses to update the current branch.\n",
      "\n",
      "See 'git help config' and search for 'push.default' for further information.\n",
      "(the 'simple' mode was introduced in Git 1.7.11. Use the similar mode\n",
      "'current' instead of 'simple' if you sometimes use older versions of Git)\n",
      "\n",
      "To https://github.com/minglong-cse2016/cs207binsearch.git\n",
      "   ea92b8d..1930dbf  master -> master\n"
     ]
    }
   ],
   "source": [
    "%%bash\n",
    "pushd /Users/minglong/Desktop/CSE_2016/CS207/cs207binsearch\n",
    "git add .\n",
    "git commit -m \"added badges\" -a\n",
    "git push\n",
    "popd"
   ]
  },
  {
   "cell_type": "markdown",
   "metadata": {},
   "source": [
    "**Submit** this to us by creating a repo `cs207binsearch` under your userid with a file `binarysearch.py` and accompanying test file(s). Intergrate with Travis CI and Coveralls. Set up badges on the README of your repo. Write the link to your repo below."
   ]
  },
  {
   "cell_type": "markdown",
   "metadata": {},
   "source": [
    "## Binary search testing badges ##\n",
    "\n",
    "https://github.com/minglong-cse2016/cs207binsearch\n",
    "    \n",
    "[![Build Status](https://travis-ci.org/minglong-cse2016/cs207binsearch.svg?branch=master)](https://travis-ci.org/minglong-cse2016/cs207binsearch)\n",
    "\n",
    "[![Coverage Status](https://coveralls.io/repos/github/minglong-cse2016/cs207binsearch/badge.svg?branch=master)](https://coveralls.io/github/minglong-cse2016/cs207binsearch?branch=master)"
   ]
  },
  {
   "cell_type": "markdown",
   "metadata": {},
   "source": [
    "## Discussion ##\n",
    "\n",
    "The test_binsearch.py is written to test boundaries of input as much as possible. Testing cases have also been set to test as many lines of code as possible. However, there are some problems yet to be addressed in the binary_search code for now. For example, if there is 'Nan' in the input list, then the output cannot be predicted (sometimes correct but sometimes not, depending on where 'Nan' is ordered relative to needle). Other examples of problems include unsorted input and extremely large list of input (causing stack overflow). To address these problems, code modification is required. It may also reduce efficiency of the binary_search if time consuming checks are placed in the code."
   ]
  },
  {
   "cell_type": "markdown",
   "metadata": {},
   "source": [
    "*your answer here*"
   ]
  }
 ],
 "metadata": {
  "anaconda-cloud": {},
  "kernelspec": {
   "display_name": "Python [py35]",
   "language": "python",
   "name": "Python [py35]"
  },
  "language_info": {
   "codemirror_mode": {
    "name": "ipython",
    "version": 3
   },
   "file_extension": ".py",
   "mimetype": "text/x-python",
   "name": "python",
   "nbconvert_exporter": "python",
   "pygments_lexer": "ipython3",
   "version": "3.5.2"
  }
 },
 "nbformat": 4,
 "nbformat_minor": 0
}
