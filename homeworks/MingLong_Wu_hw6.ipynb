{
 "cells": [
  {
   "cell_type": "markdown",
   "metadata": {
    "collapsed": true
   },
   "source": [
    "## Q1.\n",
    "\n",
    "Add a __setitem__ to the python linked list implementation from the lecture (this past wednesday)."
   ]
  },
  {
   "cell_type": "code",
   "execution_count": 4,
   "metadata": {
    "collapsed": true
   },
   "outputs": [],
   "source": [
    "#your code here\n",
    "from doctest import run_docstring_examples as dtest\n",
    "import numbers\n",
    "import reprlib\n",
    "class LL:\n",
    "    \"\"\"\n",
    "    >>> A = LL()  \n",
    "    >>> A[0]\n",
    "    Traceback (most recent call last):\n",
    "        ...\n",
    "    IndexError: trying to index an empty LL\n",
    "    >>> A.insert_front(1)\n",
    "    >>> A[0]\n",
    "    1\n",
    "    >>> A.insert_back(2)\n",
    "    >>> A[1]\n",
    "    2\n",
    "    >>> A\n",
    "    LL([1,...])\n",
    "    >>> myll = LL.from_components([1,2])\n",
    "    >>> myll[1]\n",
    "    1\n",
    "    >>> len(myll)\n",
    "    2\n",
    "    >>> myll[2]\n",
    "    Traceback (most recent call last):\n",
    "        ...\n",
    "    IndexError: LL index out of range\n",
    "    >>> myll[0:1]\n",
    "    Traceback (most recent call last):\n",
    "        ...\n",
    "    TypeError: LL indices must be integers\n",
    "    \"\"\"\n",
    "    @classmethod\n",
    "    def from_components(cls, components):\n",
    "        inst = cls(components[0])\n",
    "        for c in components[1:]:\n",
    "            inst.insert_front(c)\n",
    "        return inst\n",
    "        \n",
    "    def __init__(self, head=None):\n",
    "        if head is None:\n",
    "            self._headNode = None\n",
    "        else:\n",
    "            self._headNode = [head, None]\n",
    "            \n",
    "    def insert_front(self, element):\n",
    "        new_node = [element, None]\n",
    "        new_node[1] = self._headNode\n",
    "        self._headNode = new_node\n",
    "        \n",
    "    def insert_back(self, element):\n",
    "        new_node = [element, None]\n",
    "        curr_ptr = self._headNode\n",
    "        while curr_ptr[1] is not None:\n",
    "            curr_ptr = curr_ptr[1]\n",
    "        curr_ptr[1]= new_node\n",
    "        \n",
    "    def __repr__(self):\n",
    "        class_name = type(self).__name__\n",
    "        if len(self)==0:\n",
    "            components=\"\"\n",
    "        else:\n",
    "            components = reprlib.repr(self[0])\n",
    "        return '{}([{},...])'.format(class_name,components)\n",
    "\n",
    "\n",
    "    def __len__(self):\n",
    "        curr_ptr = self._headNode\n",
    "        count = 0\n",
    "        if curr_ptr==None:\n",
    "            return 0\n",
    "        while 1:\n",
    "            count = count + 1\n",
    "            if curr_ptr[1] is None:\n",
    "                break\n",
    "            curr_ptr = curr_ptr[1]\n",
    "        return count    \n",
    "    \n",
    "    def __getitem__(self, index):\n",
    "        class_name = type(self).__name__\n",
    "        if isinstance(index, numbers.Integral): \n",
    "            curr_ptr = self._headNode\n",
    "            if curr_ptr==None:\n",
    "                msg = 'trying to index an empty {class_name}' \n",
    "                raise IndexError(msg.format(class_name=class_name))\n",
    "            next_ptr = self._headNode[1]\n",
    "            count = 0\n",
    "            while 1:\n",
    "                if index == count: # hit the index we want\n",
    "                    return curr_ptr[0]\n",
    "                if curr_ptr[1] is None:\n",
    "                    msg = '{class_name} index out of range' \n",
    "                    raise IndexError(msg.format(class_name=class_name))       \n",
    "                count += 1\n",
    "                curr_ptr = curr_ptr[1]\n",
    "        else:\n",
    "            msg = '{class_name} indices must be integers' \n",
    "            raise TypeError(msg.format(class_name=class_name))\n",
    "            \n",
    "    # add setitem here:\n",
    "    # most code would be same as __getitem__ above except for the set value\n",
    "    def __setitem__(self, index, value): # add value to be set here\n",
    "        class_name = type(self).__name__\n",
    "        if isinstance(index, numbers.Integral): \n",
    "            curr_ptr = self._headNode\n",
    "            if curr_ptr==None:\n",
    "                msg = 'trying to index an empty {class_name}' \n",
    "                raise IndexError(msg.format(class_name=class_name))\n",
    "            next_ptr = self._headNode[1]\n",
    "            count = 0\n",
    "            while 1:\n",
    "                if index == count: # hit the index we want\n",
    "                    curr_ptr[0] = value # set value here\n",
    "                    return\n",
    "                if curr_ptr[1] is None:\n",
    "                    msg = '{class_name} index out of range' \n",
    "                    raise IndexError(msg.format(class_name=class_name))       \n",
    "                count += 1\n",
    "                curr_ptr = curr_ptr[1]\n",
    "        else:\n",
    "            msg = '{class_name} indices must be integers' \n",
    "            raise TypeError(msg.format(class_name=class_name))\n"
   ]
  },
  {
   "cell_type": "code",
   "execution_count": 9,
   "metadata": {
    "collapsed": false
   },
   "outputs": [
    {
     "name": "stdout",
     "output_type": "stream",
     "text": [
      "LL([,...])\n",
      "\n",
      "\n",
      "1\n",
      "\n",
      "\n",
      "1\n",
      "3\n",
      "\n",
      "\n",
      "5\n",
      "1\n",
      "3\n",
      "\n",
      "\n",
      "5\n",
      "1\n",
      "7\n",
      "\n",
      "\n"
     ]
    }
   ],
   "source": [
    "# do some tests here\n",
    "LL_test = LL()\n",
    "print(LL_test)\n",
    "print('\\n')\n",
    "\n",
    "LL_test.insert_front(1)\n",
    "print(LL_test[0])\n",
    "print('\\n')\n",
    "\n",
    "LL_test.insert_back(3)\n",
    "print(LL_test[0])\n",
    "print(LL_test[1])\n",
    "print('\\n')\n",
    "\n",
    "LL_test.insert_front(5)\n",
    "print(LL_test[0])\n",
    "print(LL_test[1])\n",
    "print(LL_test[2])\n",
    "print('\\n')\n",
    "\n",
    "LL_test[2] = 7\n",
    "print(LL_test[0])\n",
    "print(LL_test[1])\n",
    "print(LL_test[2])\n",
    "print('\\n')"
   ]
  },
  {
   "cell_type": "markdown",
   "metadata": {},
   "source": [
    "## Q2.\n",
    "\n",
    "An online mean and standard deviation algorithm.\n",
    "\n",
    "Below is a function to generate a potentially infinite stream of 1-D data."
   ]
  },
  {
   "cell_type": "code",
   "execution_count": 10,
   "metadata": {
    "collapsed": false
   },
   "outputs": [],
   "source": [
    "from random import normalvariate, random\n",
    "from itertools import count\n",
    "def make_data(m, stop=None):\n",
    "    for _ in count():\n",
    "        if stop and _ > stop:\n",
    "            break\n",
    "        yield 1.0e09 + normalvariate(0, m*random() )\n",
    "        # basically generate random data\n",
    "\n",
    "#"
   ]
  },
  {
   "cell_type": "markdown",
   "metadata": {},
   "source": [
    "Here is an implementation of an online mean algorithm..see http://www.johndcook.com/blog/standard_deviation/ and the link to http://www.johndcook.com/blog/2008/09/26/comparing-three-methods-of-computing-standard-deviation/ in-between. (Convince yourselves of the formulas...)"
   ]
  },
  {
   "cell_type": "code",
   "execution_count": 11,
   "metadata": {
    "collapsed": true
   },
   "outputs": [],
   "source": [
    "def online_mean(iterator):\n",
    "    n = 0\n",
    "    mu = 0\n",
    "    for value in iterator:\n",
    "        n += 1\n",
    "        delta = value - mu\n",
    "        mu = mu + delta/n\n",
    "        yield mu"
   ]
  },
  {
   "cell_type": "markdown",
   "metadata": {},
   "source": [
    "We use out generator functions to implement iterators:"
   ]
  },
  {
   "cell_type": "code",
   "execution_count": 12,
   "metadata": {
    "collapsed": false
   },
   "outputs": [
    {
     "data": {
      "text/plain": [
       "[1000000001.0399555,\n",
       " 1000000000.2334644,\n",
       " 1000000002.3151091,\n",
       " 999999999.5416874,\n",
       " 999999999.3099096,\n",
       " 999999996.2672925,\n",
       " 1000000001.4120167,\n",
       " 1000000002.997442,\n",
       " 999999999.8163553,\n",
       " 1000000000.5604103,\n",
       " 1000000002.217348]"
      ]
     },
     "execution_count": 12,
     "metadata": {},
     "output_type": "execute_result"
    }
   ],
   "source": [
    "g = make_data(5, 10)\n",
    "list(g)"
   ]
  },
  {
   "cell_type": "code",
   "execution_count": 15,
   "metadata": {
    "collapsed": false
   },
   "outputs": [
    {
     "name": "stdout",
     "output_type": "stream",
     "text": [
      "<class 'generator'>\n"
     ]
    },
    {
     "data": {
      "text/plain": [
       "[1000000001.9752347,\n",
       " 1000000001.763298,\n",
       " 1000000001.3202178,\n",
       " 999999998.4871863,\n",
       " 999999998.7721341,\n",
       " 1000000000.1265864,\n",
       " 1000000000.0290396,\n",
       " 999999999.9606212,\n",
       " 999999999.9784322,\n",
       " 999999999.9537594,\n",
       " 999999999.9224043,\n",
       " 1000000000.1358185,\n",
       " 999999999.993111,\n",
       " 999999999.7588227,\n",
       " 999999999.9592094,\n",
       " 999999999.9689106,\n",
       " 1000000000.2252524,\n",
       " 1000000000.1895767,\n",
       " 1000000000.1764816,\n",
       " 1000000000.2784233,\n",
       " 1000000000.3887349,\n",
       " 1000000000.3164344,\n",
       " 1000000000.2994766,\n",
       " 1000000000.1113019,\n",
       " 999999999.9900454,\n",
       " 999999999.9540758,\n",
       " 999999999.7418033,\n",
       " 999999999.780638,\n",
       " 999999999.9372736,\n",
       " 1000000000.0718778,\n",
       " 1000000000.1713707,\n",
       " 1000000000.1675891,\n",
       " 1000000000.1876358,\n",
       " 1000000000.1036062,\n",
       " 1000000000.0987314,\n",
       " 1000000000.1110234,\n",
       " 1000000000.1364968,\n",
       " 1000000000.151045,\n",
       " 1000000000.1454729,\n",
       " 1000000000.1378688,\n",
       " 1000000000.112916,\n",
       " 1000000000.088737,\n",
       " 1000000000.0395533,\n",
       " 999999999.9949068,\n",
       " 1000000000.1150222,\n",
       " 1000000000.1135926,\n",
       " 1000000000.1097603,\n",
       " 1000000000.1322618,\n",
       " 1000000000.1871116,\n",
       " 1000000000.1946187,\n",
       " 1000000000.2001512,\n",
       " 1000000000.1961079,\n",
       " 1000000000.3309044,\n",
       " 1000000000.2993464,\n",
       " 1000000000.2981168,\n",
       " 1000000000.270391,\n",
       " 1000000000.2811031,\n",
       " 1000000000.2357397,\n",
       " 1000000000.2864505,\n",
       " 1000000000.2970009,\n",
       " 1000000000.3625785,\n",
       " 1000000000.3325018,\n",
       " 1000000000.3387952,\n",
       " 1000000000.3502548,\n",
       " 1000000000.4316559,\n",
       " 1000000000.4310453,\n",
       " 1000000000.4334928,\n",
       " 1000000000.4192019,\n",
       " 1000000000.4375892,\n",
       " 1000000000.4414943,\n",
       " 1000000000.4111233,\n",
       " 1000000000.352816,\n",
       " 1000000000.4023547,\n",
       " 1000000000.4616036,\n",
       " 1000000000.4647993,\n",
       " 1000000000.4606236,\n",
       " 1000000000.4133066,\n",
       " 1000000000.3289565,\n",
       " 1000000000.328071,\n",
       " 1000000000.3527286,\n",
       " 1000000000.3264331,\n",
       " 1000000000.3299382,\n",
       " 1000000000.249472,\n",
       " 1000000000.2400073,\n",
       " 1000000000.2440206,\n",
       " 1000000000.2525295,\n",
       " 1000000000.2191634,\n",
       " 1000000000.2297869,\n",
       " 1000000000.1486038,\n",
       " 1000000000.1209314,\n",
       " 1000000000.1096907,\n",
       " 1000000000.0450678,\n",
       " 1000000000.098572,\n",
       " 1000000000.0813038,\n",
       " 1000000000.0710101,\n",
       " 1000000000.0940441,\n",
       " 1000000000.0779823,\n",
       " 1000000000.0311097,\n",
       " 1000000000.0153214,\n",
       " 1000000000.0197412,\n",
       " 1000000000.0475686]"
      ]
     },
     "execution_count": 15,
     "metadata": {},
     "output_type": "execute_result"
    }
   ],
   "source": [
    "g = online_mean(make_data(5, 100))\n",
    "print(type(g))\n",
    "list(g)"
   ]
  },
  {
   "cell_type": "markdown",
   "metadata": {},
   "source": [
    "### 2.1\n",
    "\n",
    "Implement the standard deviation algorithm as a generator function as\n",
    "\n",
    "```python\n",
    "def online_mean_dev(iterator):\n",
    "    BLA BLA\n",
    "    if n > 1:\n",
    "        stddev = math.sqrt(dev_accum/(n-1))\n",
    "        yield (n, value, mu, stddev)\n",
    "```"
   ]
  },
  {
   "cell_type": "code",
   "execution_count": 25,
   "metadata": {
    "collapsed": false
   },
   "outputs": [],
   "source": [
    "# your code here\n",
    "# consuming iterator and send out iterator...\n",
    "#\n",
    "# using the formulas from the link provided\n",
    "# Mk = Mk-1+ (xk – Mk-1)/k\n",
    "# Sk = Sk-1 + (xk – Mk-1)*(xk – Mk)\n",
    "#\n",
    "import math\n",
    "\n",
    "def online_mean_dev(iterator):\n",
    "    n = 0\n",
    "    mu = 0    \n",
    "    dev_accum = 0 # define dev_accum (i.e., Sk) here\n",
    "    \n",
    "    for value in iterator:\n",
    "\n",
    "        # update n\n",
    "        n += 1\n",
    "        \n",
    "        # update mu\n",
    "        delta = value - mu\n",
    "        mu = mu + delta/n\n",
    "    \n",
    "        # update dev_accum\n",
    "        dev_accum = dev_accum + delta * (value - mu)\n",
    "    \n",
    "        if n > 1:\n",
    "            stddev = math.sqrt(dev_accum/(n-1))\n",
    "        else:\n",
    "            stddev = 0\n",
    "            \n",
    "        yield (n, value, mu, stddev)\n",
    "        "
   ]
  },
  {
   "cell_type": "markdown",
   "metadata": {},
   "source": [
    "Here we make 100000 element data, and run this iterator on it (imagine running this on a time-series being slowly read from disk"
   ]
  },
  {
   "cell_type": "code",
   "execution_count": 51,
   "metadata": {
    "collapsed": false
   },
   "outputs": [],
   "source": [
    "data_with_stats = online_mean_dev(make_data(5, 100000)) # try smaller number first\n",
    "#data_with_stats = online_mean_dev(make_data(5, 20)) # try smaller number first\n",
    "#list(data_with_stats)"
   ]
  },
  {
   "cell_type": "markdown",
   "metadata": {},
   "source": [
    "## Q3.\n",
    "\n",
    "Let's do Anomaly detection. Write a routine `is_ok`:\n",
    "\n",
    "```python\n",
    "def is_ok(level, t)\n",
    "```\n",
    "\n",
    "which takes a tuple like the one yielded by your code above and returns True if the value is inbetween `level`-$\\sigma$ of the mean."
   ]
  },
  {
   "cell_type": "code",
   "execution_count": 48,
   "metadata": {
    "collapsed": true
   },
   "outputs": [],
   "source": [
    "#your code here\n",
    "import math\n",
    "\n",
    "def is_ok(level, t):\n",
    "    \n",
    "    n, value, mu, stddev = t\n",
    "    \n",
    "    if stddev == 0:\n",
    "        return True\n",
    "    elif (math.fabs((value - mu)) / stddev) < level: # within: mean +- level*sigma\n",
    "        return True\n",
    "    else:\n",
    "        return False # out of: mean +- level*sigma"
   ]
  },
  {
   "cell_type": "markdown",
   "metadata": {},
   "source": [
    "We use this function to create a predicate passed through to `itertools.filterfalse` which is then used to obtain an iterator on the anomalies."
   ]
  },
  {
   "cell_type": "code",
   "execution_count": 52,
   "metadata": {
    "collapsed": true
   },
   "outputs": [],
   "source": [
    "from itertools import filterfalse\n",
    "pred = lambda t: is_ok(5, t)\n",
    "anomalies = filterfalse(pred, data_with_stats)"
   ]
  },
  {
   "cell_type": "markdown",
   "metadata": {},
   "source": [
    "We materialize the anomalies..."
   ]
  },
  {
   "cell_type": "code",
   "execution_count": 53,
   "metadata": {
    "collapsed": false
   },
   "outputs": [
    {
     "data": {
      "text/plain": [
       "[(2763, 999999985.9468982, 999999999.9812105, 2.797967848102974),\n",
       " (10849, 999999984.6192626, 1000000000.0343418, 2.857632550534303),\n",
       " (13283, 1000000015.4091518, 1000000000.0254759, 2.8660162273817598),\n",
       " (13957, 1000000014.620393, 1000000000.0221534, 2.871257040103971),\n",
       " (14465, 999999985.0510014, 1000000000.0211911, 2.8795346939354194),\n",
       " (14929, 1000000015.4942422, 1000000000.0245999, 2.881653311317319),\n",
       " (16082, 999999985.5500134, 1000000000.0080868, 2.878863735206887),\n",
       " (21090, 999999983.726664, 1000000000.0115852, 2.8845338554231486),\n",
       " (23151, 1000000015.0397172, 1000000000.0120796, 2.884114959939939),\n",
       " (36485, 999999984.7150387, 1000000000.0160526, 2.8973567815487815),\n",
       " (40177, 999999983.7024192, 1000000000.0040559, 2.8903409195977092),\n",
       " (42492, 999999985.1947402, 1000000000.0047457, 2.895827684329287),\n",
       " (45374, 1000000014.9804556, 1000000000.0044757, 2.8923172036624116),\n",
       " (50841, 1000000017.797233, 1000000000.0003852, 2.8875777033885535),\n",
       " (56369, 1000000014.65807, 1000000000.0027413, 2.8877371367224733),\n",
       " (58572, 1000000016.706149, 1000000000.0011476, 2.8925598718416077),\n",
       " (66917, 1000000014.5287718, 999999999.996673, 2.8896202919035767),\n",
       " (72143, 1000000014.6615866, 999999999.9919684, 2.889569785907188),\n",
       " (72822, 999999985.0957996, 999999999.9904801, 2.891124099269816),\n",
       " (76149, 999999983.8164824, 999999999.9918331, 2.888023826654794),\n",
       " (92330, 999999983.8049225, 999999999.9956942, 2.8841064581370985),\n",
       " (93685, 1000000015.9146848, 999999999.9965119, 2.8857406917037323),\n",
       " (95077, 1000000018.5191256, 999999999.9987377, 2.8878254561774104),\n",
       " (96553, 999999984.9005991, 999999999.9987944, 2.888335497994526)]"
      ]
     },
     "execution_count": 53,
     "metadata": {},
     "output_type": "execute_result"
    }
   ],
   "source": [
    "list(anomalies)#materialize"
   ]
  },
  {
   "cell_type": "markdown",
   "metadata": {},
   "source": [
    "## To think of, but not hand in\n",
    "\n",
    "What kinds of anomalies will this algorithm pick up? What kinds would a shorter \"window\" of anomaly detection, like 100 points around the time in question pick? How might you create an algorithm which does window based averaging? (hint: the window size is small compared to the time series size). \n",
    "\n",
    "Finally think a bit of how you might implement all of this in a production environment..remember that data streaming in might get backed up when you handle an anomaly.\n",
    "\n",
    "(Some inspiration might accrue if you look at the docs for `collections.deque`)."
   ]
  }
 ],
 "metadata": {
  "anaconda-cloud": {},
  "kernelspec": {
   "display_name": "Python [py35]",
   "language": "python",
   "name": "Python [py35]"
  },
  "language_info": {
   "codemirror_mode": {
    "name": "ipython",
    "version": 3
   },
   "file_extension": ".py",
   "mimetype": "text/x-python",
   "name": "python",
   "nbconvert_exporter": "python",
   "pygments_lexer": "ipython3",
   "version": "3.5.2"
  }
 },
 "nbformat": 4,
 "nbformat_minor": 0
}
