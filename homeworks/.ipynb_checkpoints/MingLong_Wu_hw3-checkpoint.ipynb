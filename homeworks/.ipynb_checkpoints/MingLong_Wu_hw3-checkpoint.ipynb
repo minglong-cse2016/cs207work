{
 "cells": [
  {
   "cell_type": "markdown",
   "metadata": {},
   "source": [
    "## Basic Algorithms: Fibonacci\n",
    "\n",
    "Another form of recursion is tree recursion. Consider computing a fibonacci sequence, in which each number is the sum of the previous two, with the first two taken to be 0 and 1."
   ]
  },
  {
   "cell_type": "markdown",
   "metadata": {},
   "source": [
    "### Recursive Fibonacci. \n",
    "\n",
    "\n",
    "We write Fibonacci recursively with the first two numbers as base cases.\n",
    "\n",
    "![](https://mitpress.mit.edu/sicp/full-text/book/ch1-Z-G-13.gif)\n",
    "\n",
    "(from SICP)\n",
    "\n",
    "Signature: `def fib_recursive(n)`"
   ]
  },
  {
   "cell_type": "code",
   "execution_count": 1,
   "metadata": {
    "collapsed": false
   },
   "outputs": [
    {
     "name": "stdout",
     "output_type": "stream",
     "text": [
      "0\n",
      "1\n",
      "8\n",
      "144\n",
      "317811\n",
      "2178309\n"
     ]
    }
   ],
   "source": [
    "def fib_recursive(n):\n",
    "    if n == 1:\n",
    "        return 0\n",
    "    if n == 2:\n",
    "        return 1\n",
    "    return fib_recursive(n-1) + fib_recursive(n-2)\n",
    "\n",
    "for i in [1, 2, 7, 13, 29, 33]:\n",
    "    print(fib_recursive(i))"
   ]
  },
  {
   "cell_type": "markdown",
   "metadata": {},
   "source": [
    "### Q1. \n",
    "\n",
    "What are the space and time complexities of this implementation? Hint: think aboutthe number of items in a binary tree and its depth."
   ]
  },
  {
   "cell_type": "markdown",
   "metadata": {},
   "source": [
    "*your answer here*\n",
    "\n",
    "\n",
    "**Ans:**\n",
    "\n",
    "The above Fibonacci tree shows that for fib(n=5), there could be a maximum of 5 layers in the tree (the leftmost branch). From top to bottom, the maximum numbers of nodes in each layer are bounded by 1, 2, 4, 8, 16 ... The total number of nodes in the tree is how many times of evaluations that the algorithm will perform. Therefore, the time complexity of this algorithm is O(2^n).\n",
    "\n",
    "For space complexity, each layer of recursive implementation is bounded by O(1). However, there are multiple stack frames created during the recursive computations and, therefore, the stack space cost is bounded by O(n).\n"
   ]
  },
  {
   "cell_type": "markdown",
   "metadata": {},
   "source": [
    "### Dynamic Programming and Iteration\n",
    "\n",
    "From Skiena\n",
    ">..**dynamic programming**, which typically removes one element from the problem, solves the smaller problem, and then uses the solution to this smaller problem to add back the element in the proper way. **Divide-and-conquer** instead splits the problem in (say) halves, solves each half, then stitches the pieces back together to form a full solution.\n",
    "\n",
    ">Dynamic programming is a technique for efficiently implementing a recursive algorithm by storing partial results. The trick is seeing whether the naive recursive algorithm computes the same subproblems over and over and over again. If so, storing the answer for each subproblems in a table to look up instead of recompute can lead to an efficient algorithm. Start with a recursive algorithm or definition. Only once we have a correct recursive algorithm do we worry about speeding it up by using a results matrix. Dynamic programming is generally the right method for optimization problems on combinatorial objects that have an inherent left to right order among components. Left-to-right objects includes: character strings, rooted trees, polygons, and integer sequences."
   ]
  },
  {
   "cell_type": "markdown",
   "metadata": {},
   "source": [
    "### Q2.\n",
    "\n",
    "Here is an implementation of Fibonacci using dynamic programming: they key is to notice that the recurrence we used can be put into an iterative form and just stored in an ever increasing array. What is the space and time complexity here? What if you were somehow able to save the array outside of the function when u calculate `fib(M)` and subsequently had to calculate `fib(N)`, where $N>M$."
   ]
  },
  {
   "cell_type": "code",
   "execution_count": 20,
   "metadata": {
    "collapsed": false
   },
   "outputs": [],
   "source": [
    "def fib_iterative(n):\n",
    "    fibs=[]\n",
    "    print('n = 0')\n",
    "    fibs.append(0)\n",
    "    print('fibs = ' + str(fibs))\n",
    "    print('n = 1')\n",
    "    fibs.append(1)\n",
    "    print('fibs = ' + str(fibs))\n",
    "    #fibs[1]\n",
    "    for i in range(2, n):\n",
    "         print('n = ' + str(i))\n",
    "         fibs.append(fibs[i-1]+fibs[i-2])\n",
    "         print('fibs = ' + str(fibs))\n",
    "    return fibs[n-1]"
   ]
  },
  {
   "cell_type": "code",
   "execution_count": 15,
   "metadata": {
    "collapsed": false
   },
   "outputs": [
    {
     "name": "stdout",
     "output_type": "stream",
     "text": [
      "0\n",
      "1\n",
      "8\n",
      "144\n",
      "317811\n",
      "2178309\n"
     ]
    }
   ],
   "source": [
    "for i in [1, 2, 7,13,29,33]:\n",
    "    print(fib_iterative(i))"
   ]
  },
  {
   "cell_type": "code",
   "execution_count": 21,
   "metadata": {
    "collapsed": false
   },
   "outputs": [
    {
     "name": "stdout",
     "output_type": "stream",
     "text": [
      "n = 0\n",
      "fibs = [0]\n",
      "n = 1\n",
      "fibs = [0, 1]\n",
      "n = 2\n",
      "fibs = [0, 1, 1]\n",
      "n = 3\n",
      "fibs = [0, 1, 1, 2]\n",
      "n = 4\n",
      "fibs = [0, 1, 1, 2, 3]\n"
     ]
    },
    {
     "data": {
      "text/plain": [
       "3"
      ]
     },
     "execution_count": 21,
     "metadata": {},
     "output_type": "execute_result"
    }
   ],
   "source": [
    "fib_iterative(5)"
   ]
  },
  {
   "cell_type": "markdown",
   "metadata": {},
   "source": [
    "*your answer here*\n",
    "\n",
    "**Complexity of the fib_iterative:**\n",
    "\n",
    "In this iterative implementation, the Fibonacci series is calculated in a bottom up way (from n = 0 to n =5). From the tracing statements shown above, there will be n times of evaluations and, therefore, time complexity is O(n). In addition, there are a total of n stored in 'fibs' and, therefore, space complexity is also O(n).\n"
   ]
  },
  {
   "cell_type": "markdown",
   "metadata": {},
   "source": [
    "### Recursive Fibonacci with cacheing"
   ]
  },
  {
   "cell_type": "markdown",
   "metadata": {},
   "source": [
    "### Q3. \n",
    "\n",
    "Use `cache` and `call_counter` as decorators on `fib_recursive` and print the fibonacci numbers for 7,13,29, 33. What order should these decorators be called to make sure `call_counter` gets the actual number of calls to `fib_recursive`?\n",
    "\n",
    "We've written the `cache` decorator for you. You have to write the `call_counter` decorator which takes the function as argument and using a `count_dictionary` whose keys are function names, counts the number of times the function is called."
   ]
  },
  {
   "cell_type": "code",
   "execution_count": 172,
   "metadata": {
    "collapsed": true
   },
   "outputs": [],
   "source": [
    "def cache(f):\n",
    "    \"\"\"a single argument function whose values may be cached\"\"\"\n",
    "    cache = {}\n",
    "    def memoized_func(x):\n",
    "        \n",
    "        print('inside cache')\n",
    "        if x not in cache:\n",
    "            print('n = ' + str(x))\n",
    "            print('call fib_recursive!')\n",
    "            cache[x] = f(x)\n",
    "        return cache[x]\n",
    "    \n",
    "    memoized_func.__name__ = f.__name__\n",
    "    \n",
    "    return memoized_func\n",
    "    "
   ]
  },
  {
   "cell_type": "code",
   "execution_count": 173,
   "metadata": {
    "collapsed": false
   },
   "outputs": [],
   "source": [
    "#your code here\n",
    "def call_counter(count_dictionary):\n",
    "    def call_counter_decorator(func):\n",
    "        def inner(*args, **kwargs):\n",
    "        #def inner(k):\n",
    "            name = func.__name__\n",
    "            #your code here\n",
    "            print('\\ninside counter')\n",
    "            print('n = ' + str(args))\n",
    "            \n",
    "            ccounter[name] += 1 # increment counter value by 1\n",
    "            \n",
    "            print(ccounter)\n",
    "            \n",
    "            return func(*args, **kwargs)\n",
    "        return inner\n",
    "    return call_counter_decorator"
   ]
  },
  {
   "cell_type": "code",
   "execution_count": 174,
   "metadata": {
    "collapsed": false,
    "scrolled": true
   },
   "outputs": [
    {
     "name": "stdout",
     "output_type": "stream",
     "text": [
      "\n",
      "inside counter\n",
      "n = (5,)\n",
      "defaultdict(<class 'int'>, {'fib_recursive': 1})\n",
      "inside cache\n",
      "n = 5\n",
      "call fib_recursive!\n",
      "\n",
      "inside counter\n",
      "n = (4,)\n",
      "defaultdict(<class 'int'>, {'fib_recursive': 2})\n",
      "inside cache\n",
      "n = 4\n",
      "call fib_recursive!\n",
      "\n",
      "inside counter\n",
      "n = (3,)\n",
      "defaultdict(<class 'int'>, {'fib_recursive': 3})\n",
      "inside cache\n",
      "n = 3\n",
      "call fib_recursive!\n",
      "\n",
      "inside counter\n",
      "n = (2,)\n",
      "defaultdict(<class 'int'>, {'fib_recursive': 4})\n",
      "inside cache\n",
      "n = 2\n",
      "call fib_recursive!\n",
      "\n",
      "inside counter\n",
      "n = (1,)\n",
      "defaultdict(<class 'int'>, {'fib_recursive': 5})\n",
      "inside cache\n",
      "n = 1\n",
      "call fib_recursive!\n",
      "\n",
      "inside counter\n",
      "n = (2,)\n",
      "defaultdict(<class 'int'>, {'fib_recursive': 6})\n",
      "inside cache\n",
      "\n",
      "inside counter\n",
      "n = (3,)\n",
      "defaultdict(<class 'int'>, {'fib_recursive': 7})\n",
      "inside cache\n"
     ]
    },
    {
     "data": {
      "text/plain": [
       "3"
      ]
     },
     "execution_count": 174,
     "metadata": {},
     "output_type": "execute_result"
    }
   ],
   "source": [
    "# --------------\n",
    "# TEST:\n",
    "# counter before cache, count cache(fib_recursive) calls\n",
    "# --------------\n",
    "from collections import defaultdict\n",
    "\n",
    "ccounter = defaultdict(int)\n",
    "\n",
    "@call_counter(ccounter)\n",
    "@cache\n",
    "def fib_recursive(n):\n",
    "    if n == 1:\n",
    "        return 0\n",
    "    if n == 2:\n",
    "        return 1\n",
    "    return fib_recursive(n-1) + fib_recursive(n-2)\n",
    "\n",
    "fib_recursive(5)\n",
    "\n",
    "#for i in [7,13,29, 33]:\n",
    "#    print(i, fib_recursive(i), ccounter['fib_recursive'])\n"
   ]
  },
  {
   "cell_type": "code",
   "execution_count": 175,
   "metadata": {
    "collapsed": false
   },
   "outputs": [
    {
     "name": "stdout",
     "output_type": "stream",
     "text": [
      "inside cache\n",
      "n = 5\n",
      "call fib_recursive!\n",
      "\n",
      "inside counter\n",
      "n = (5,)\n",
      "defaultdict(<class 'int'>, {'fib_recursive': 1})\n",
      "inside cache\n",
      "n = 4\n",
      "call fib_recursive!\n",
      "\n",
      "inside counter\n",
      "n = (4,)\n",
      "defaultdict(<class 'int'>, {'fib_recursive': 2})\n",
      "inside cache\n",
      "n = 3\n",
      "call fib_recursive!\n",
      "\n",
      "inside counter\n",
      "n = (3,)\n",
      "defaultdict(<class 'int'>, {'fib_recursive': 3})\n",
      "inside cache\n",
      "n = 2\n",
      "call fib_recursive!\n",
      "\n",
      "inside counter\n",
      "n = (2,)\n",
      "defaultdict(<class 'int'>, {'fib_recursive': 4})\n",
      "inside cache\n",
      "n = 1\n",
      "call fib_recursive!\n",
      "\n",
      "inside counter\n",
      "n = (1,)\n",
      "defaultdict(<class 'int'>, {'fib_recursive': 5})\n",
      "inside cache\n",
      "inside cache\n"
     ]
    },
    {
     "data": {
      "text/plain": [
       "3"
      ]
     },
     "execution_count": 175,
     "metadata": {},
     "output_type": "execute_result"
    }
   ],
   "source": [
    "# --------------\n",
    "# TEST\n",
    "# cache before counter, count actual fib_recursive calls\n",
    "# --------------\n",
    "from collections import defaultdict\n",
    "\n",
    "ccounter = defaultdict(int)\n",
    "\n",
    "@cache\n",
    "@call_counter(ccounter)\n",
    "def fib_recursive(n):\n",
    "    if n == 1:\n",
    "        return 0\n",
    "    if n == 2:\n",
    "        return 1\n",
    "    return fib_recursive(n-1) + fib_recursive(n-2)\n",
    "\n",
    "fib_recursive(5)\n"
   ]
  },
  {
   "cell_type": "markdown",
   "metadata": {},
   "source": [
    "**Ans**\n",
    "\n",
    "As shown in the trace results, if @call_counter is placed right above fib_recursive, then it will count the number of calls to fib_recursive (what we want).\n",
    "\n",
    "If, on the other hand, @cache is placed right above fib_recursive, then @call_counter counts calls to cache(fib_recursive), which is a decoratorated function of fib_recursive. The count includes actual fib_recursive calls and cache look up."
   ]
  },
  {
   "cell_type": "code",
   "execution_count": null,
   "metadata": {
    "collapsed": true
   },
   "outputs": [],
   "source": [
    "# code in homework, not modified\n",
    "def call_counter(count_dictionary):\n",
    "    def call_counter_decorator(func):\n",
    "        def inner(*args, **kwargs):\n",
    "            name = func.__name__\n",
    "            #your code here\n"
   ]
  },
  {
   "cell_type": "code",
   "execution_count": null,
   "metadata": {
    "collapsed": true
   },
   "outputs": [],
   "source": [
    "# code in homework, not modified\n",
    "ccounter={}\n",
    "@call_counter(ccounter)\n",
    "@cache\n",
    "def fib_recursive(n):\n",
    "    if n == 1:\n",
    "        return 0\n",
    "    if n == 2:\n",
    "        return 1\n",
    "    return fib_recursive(n-1) + fib_recursive(n-2)\n",
    "\n",
    "for i in [7,13,29, 33]:\n",
    "    print(i, fib_recursive(i), ccounter['fib_recursive'])"
   ]
  },
  {
   "cell_type": "markdown",
   "metadata": {},
   "source": [
    "### Q4.\n",
    "\n",
    "What is the time and space complexity of the the memoized Fibonacci? HINT: assume evaluation happens left to right on sub-expressions, so that `fib_recursive(n-1)` side of the tree is evaluated first, and thus the tree is evaluated depth first, from left to right. What kind of pruning happens in the tree?"
   ]
  },
  {
   "cell_type": "markdown",
   "metadata": {},
   "source": [
    "*your answer here*\n",
    "\n",
    "**Ans:**\n",
    "\n",
    "With the cache in recursive version of Fibonacci series, the algorithm go deep into the leftmost branch first and store all calculated values for n= 1, 2, 3, ..., n-1. Afterwards, for right-side branches, the algorithm has no need to recalculate fib_recursive() just check cache[]. So, the time complexity is bounded by O(n) and space complexity is also bounded by O(n) (the cache size). With the cache, nodes in the Fibonacci tree are obtained by looking at cache except the leftmost branch, resulting in pruning in the tree with only leftmost branch left. For example of fib_recursive(5), the branch of fib_recursive(4) will be evaluated but the fib_recursive(3) branch will be checked from cache.\n"
   ]
  },
  {
   "cell_type": "markdown",
   "metadata": {},
   "source": [
    "### Q5.\n",
    "\n",
    "Do you really need to store the entire array in the dynamic programming implementation? Isnt it enough to have only saved the previous two Fibonacci numbers? Implement such an algorithm in `fib_iterative2(n)`. What is its space and time complexity? How is the time complexity different from that of the previous iterative attempt?"
   ]
  },
  {
   "cell_type": "code",
   "execution_count": 126,
   "metadata": {
    "collapsed": true
   },
   "outputs": [],
   "source": [
    "#your code here\n",
    "def fib_iterative2(n):\n",
    "    fibs=[]\n",
    "    print('n = 0')\n",
    "    fibs.append(0)\n",
    "    print('fibs = ' + str(fibs[0]))\n",
    "    print('n = 1')\n",
    "    fibs.append(1)\n",
    "    print('fibs = ' + str(fibs[1]))\n",
    "    #fibs[1]\n",
    "    for i in range(2, n):\n",
    "        \n",
    "         if i % 2 == 0: # even i\n",
    "             print('n = ' + str(i))\n",
    "             fibs[0] = fibs[0] + fibs[1]\n",
    "             ans = fibs[0]\n",
    "             print('fibs = ' + str(fibs[0]))\n",
    "         else:\n",
    "             print('n = ' + str(i))\n",
    "             fibs[1] = fibs[0] + fibs[1]\n",
    "             print('fibs = ' + str(fibs[1]))\n",
    "             ans = fibs[1]\n",
    "                \n",
    "    return ans"
   ]
  },
  {
   "cell_type": "code",
   "execution_count": 127,
   "metadata": {
    "collapsed": false
   },
   "outputs": [
    {
     "name": "stdout",
     "output_type": "stream",
     "text": [
      "n = 0\n",
      "fibs = 0\n",
      "n = 1\n",
      "fibs = 1\n",
      "n = 2\n",
      "fibs = 1\n",
      "n = 3\n",
      "fibs = 2\n",
      "n = 4\n",
      "fibs = 3\n",
      "n = 5\n",
      "fibs = 5\n",
      "n = 6\n",
      "fibs = 8\n",
      "n = 7\n",
      "fibs = 13\n",
      "n = 8\n",
      "fibs = 21\n",
      "n = 9\n",
      "fibs = 34\n"
     ]
    },
    {
     "data": {
      "text/plain": [
       "34"
      ]
     },
     "execution_count": 127,
     "metadata": {},
     "output_type": "execute_result"
    }
   ],
   "source": [
    "#your code here\n",
    "fib_iterative2(10)"
   ]
  },
  {
   "cell_type": "markdown",
   "metadata": {},
   "source": [
    "*your answer here*\n",
    "\n",
    "**Ans**\n",
    "\n",
    "In fib_iterative2, in any iteration, only two numbers are recorded in fibs. Therefore, the space complexity is O(1). Time complexity is O(n), which is the same as fib_iterative because it still needs to loop through n = 0, 1, 2, ..., n-1."
   ]
  },
  {
   "cell_type": "markdown",
   "metadata": {},
   "source": [
    "### Q6.\n",
    "\n",
    "Write an algorithm for insertion sort.\n",
    "\n",
    "![](https://camo.githubusercontent.com/8f6fedc10da579f13b22b949f6ad29255b6d721f/68747470733a2f2f75706c6f61642e77696b696d656469612e6f72672f77696b6970656469612f636f6d6d6f6e732f302f30662f496e73657274696f6e2d736f72742d6578616d706c652d33303070782e676966)\n",
    "\n",
    "(from wikipedia)\n",
    "\n",
    "The algorithm is also illustrated here: http://cs.armstrong.edu/liang/animation/web/InsertionSort.html and may be described thus:\n",
    "\n",
    "Insertion sort is a method for sorting that starts with a single element (thus forming a trivially sorted list) and then incrementally inserts the remaining elements so that the list stays sorted.\n",
    "\n",
    "Talk about the best, worst and average complexity of insertion sort. Use the A=[5,2,1,3,8,6,9] to show your code!"
   ]
  },
  {
   "cell_type": "code",
   "execution_count": 178,
   "metadata": {
    "collapsed": false
   },
   "outputs": [],
   "source": [
    "#your code here\n",
    "def insertion_sort(input):\n",
    "    \n",
    "    for idx_1 in list(range(1,len(input))): # sorting start from 2nd element\n",
    "        \n",
    "        print('\\nidx_1 = ' + str(idx_1))\n",
    "        \n",
    "        value_be_sorted = input[idx_1] # get the current value to be sorted\n",
    "        idx_2 = idx_1\n",
    "        \n",
    "        while (idx_2 > 0) and (input[idx_2 - 1] > value_be_sorted):\n",
    "            \n",
    "            print('idx_2 = ' + str(idx_2))\n",
    "            # sort\n",
    "            (input[idx_2 - 1], input[idx_2]) = (input[idx_2], input[idx_2 -1])\n",
    "            idx_2 -= 1\n",
    "            \n",
    "            print(input)\n",
    "            \n",
    "    return input\n",
    "            "
   ]
  },
  {
   "cell_type": "code",
   "execution_count": 179,
   "metadata": {
    "collapsed": false
   },
   "outputs": [
    {
     "name": "stdout",
     "output_type": "stream",
     "text": [
      "homework case\n",
      "--------------\n",
      "\n",
      "idx_1 = 1\n",
      "idx_2 = 1\n",
      "[2, 5, 1, 3, 8, 6, 9]\n",
      "\n",
      "idx_1 = 2\n",
      "idx_2 = 2\n",
      "[2, 1, 5, 3, 8, 6, 9]\n",
      "idx_2 = 1\n",
      "[1, 2, 5, 3, 8, 6, 9]\n",
      "\n",
      "idx_1 = 3\n",
      "idx_2 = 3\n",
      "[1, 2, 3, 5, 8, 6, 9]\n",
      "\n",
      "idx_1 = 4\n",
      "\n",
      "idx_1 = 5\n",
      "idx_2 = 5\n",
      "[1, 2, 3, 5, 6, 8, 9]\n",
      "\n",
      "idx_1 = 6\n",
      "\n",
      "best case\n",
      "--------------\n",
      "\n",
      "idx_1 = 1\n",
      "\n",
      "idx_1 = 2\n",
      "\n",
      "idx_1 = 3\n",
      "\n",
      "idx_1 = 4\n",
      "\n",
      "idx_1 = 5\n",
      "\n",
      "idx_1 = 6\n",
      "\n",
      "worst case\n",
      "--------------\n",
      "\n",
      "idx_1 = 1\n",
      "idx_2 = 1\n",
      "[8, 9, 6, 5, 3, 2, 1]\n",
      "\n",
      "idx_1 = 2\n",
      "idx_2 = 2\n",
      "[8, 6, 9, 5, 3, 2, 1]\n",
      "idx_2 = 1\n",
      "[6, 8, 9, 5, 3, 2, 1]\n",
      "\n",
      "idx_1 = 3\n",
      "idx_2 = 3\n",
      "[6, 8, 5, 9, 3, 2, 1]\n",
      "idx_2 = 2\n",
      "[6, 5, 8, 9, 3, 2, 1]\n",
      "idx_2 = 1\n",
      "[5, 6, 8, 9, 3, 2, 1]\n",
      "\n",
      "idx_1 = 4\n",
      "idx_2 = 4\n",
      "[5, 6, 8, 3, 9, 2, 1]\n",
      "idx_2 = 3\n",
      "[5, 6, 3, 8, 9, 2, 1]\n",
      "idx_2 = 2\n",
      "[5, 3, 6, 8, 9, 2, 1]\n",
      "idx_2 = 1\n",
      "[3, 5, 6, 8, 9, 2, 1]\n",
      "\n",
      "idx_1 = 5\n",
      "idx_2 = 5\n",
      "[3, 5, 6, 8, 2, 9, 1]\n",
      "idx_2 = 4\n",
      "[3, 5, 6, 2, 8, 9, 1]\n",
      "idx_2 = 3\n",
      "[3, 5, 2, 6, 8, 9, 1]\n",
      "idx_2 = 2\n",
      "[3, 2, 5, 6, 8, 9, 1]\n",
      "idx_2 = 1\n",
      "[2, 3, 5, 6, 8, 9, 1]\n",
      "\n",
      "idx_1 = 6\n",
      "idx_2 = 6\n",
      "[2, 3, 5, 6, 8, 1, 9]\n",
      "idx_2 = 5\n",
      "[2, 3, 5, 6, 1, 8, 9]\n",
      "idx_2 = 4\n",
      "[2, 3, 5, 1, 6, 8, 9]\n",
      "idx_2 = 3\n",
      "[2, 3, 1, 5, 6, 8, 9]\n",
      "idx_2 = 2\n",
      "[2, 1, 3, 5, 6, 8, 9]\n",
      "idx_2 = 1\n",
      "[1, 2, 3, 5, 6, 8, 9]\n"
     ]
    }
   ],
   "source": [
    "print('homework case')\n",
    "print('--------------')\n",
    "A = [5,2,1,3,8,6,9]\n",
    "B = insertion_sort(A)\n",
    "\n",
    "print('\\nbest case')\n",
    "print('--------------')\n",
    "A = [1, 2, 3, 5, 6, 8, 9]\n",
    "B = insertion_sort(A)\n",
    "\n",
    "print('\\nworst case')\n",
    "print('--------------')\n",
    "A = [9, 8, 6, 5, 3, 2, 1]\n",
    "B = insertion_sort(A)"
   ]
  },
  {
   "cell_type": "markdown",
   "metadata": {},
   "source": [
    "*your answer here*\n",
    "\n",
    "**Ans**\n",
    "\n",
    "For the best case (i.e., input is sorted), as shown in the above example, idx_1 is evaluated (n - 1) times. So, time complexity is bounded by O(n).\n",
    "\n",
    "For worst case (i.e., input is inversely sorted), as shown in the above example, idx_1 is evaluated (n - 1) times. In each iteration of for loop, idx_2 is evaluated idx_1 times. So, the total time complexity is 1 + 2 + 3 + ... + (n - 1) and is bounded by O(n^2).\n",
    "\n",
    "For average case, the time complexity is between the best case and the worst case. So, time complexity should also be bounded by O(n^2).\n",
    "\n",
    "As to spatial complexity, no additional space is required in addition to input and several other variables. Therefore, spatial complexity is bounded by O(1)."
   ]
  },
  {
   "cell_type": "code",
   "execution_count": null,
   "metadata": {
    "collapsed": true
   },
   "outputs": [],
   "source": []
  }
 ],
 "metadata": {
  "anaconda-cloud": {},
  "kernelspec": {
   "display_name": "Python [py35]",
   "language": "python",
   "name": "Python [py35]"
  },
  "language_info": {
   "codemirror_mode": {
    "name": "ipython",
    "version": 3
   },
   "file_extension": ".py",
   "mimetype": "text/x-python",
   "name": "python",
   "nbconvert_exporter": "python",
   "pygments_lexer": "ipython3",
   "version": "3.5.2"
  }
 },
 "nbformat": 4,
 "nbformat_minor": 0
}
